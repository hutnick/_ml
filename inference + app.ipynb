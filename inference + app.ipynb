{
 "cells": [
  {
   "cell_type": "markdown",
   "metadata": {},
   "source": [
    "# Putting model into an online app\n",
    "\n",
    "## Using the model for inference\n",
    "\n",
    "#### 1) Train a model you're happy with\n",
    "\n",
    "#### 1.1) _class...ipynb\n",
    "\n",
    "--- a model consists of two parts: the architecture, and the trained parameters\n",
    "\n",
    "--- The easiest way to save a model is to save both of these, because that way when you load a model you can be sure that you have the matching architecture and parameters\n",
    "\n",
    "--- To save both parts, use the export method\n"
   ]
  },
  {
   "cell_type": "code",
   "execution_count": null,
   "metadata": {},
   "outputs": [],
   "source": [
    "learn.export()"
   ]
  },
  {
   "cell_type": "markdown",
   "metadata": {},
   "source": [
    "##### 1.2)  learn.export the model\n",
    "\n",
    "This method even saves the definition of how to create your DataLoaders. \n",
    "This is important, because otherwise you would have to redefine how to transform your data in order to use your model in production.\n",
    "fastai automatically uses your validation set DataLoader for inference by default, so your data augmentation will not be applied, which is generally what you want.\n",
    "\n",
    "When you call export, fastai will save a file called export.pkl."
   ]
  },
  {
   "cell_type": "markdown",
   "metadata": {},
   "source": [
    "\n",
    "\n",
    "Let's check that file exists, by using the Path.ls method that fastai adds to Python's Path class:\n"
   ]
  },
  {
   "cell_type": "code",
   "execution_count": null,
   "metadata": {},
   "outputs": [],
   "source": [
    "path = Path()\n",
    "path.ls(file_exts='.pkl')"
   ]
  },
  {
   "cell_type": "code",
   "execution_count": null,
   "metadata": {},
   "outputs": [],
   "source": [
    "export.pkl >> .../home/yuri/Pro/fastaiv3/data/bears/grizzly/"
   ]
  },
  {
   "cell_type": "markdown",
   "metadata": {},
   "source": [
    "##### 'inference'  >>  recalling / making predictions  from trained model\n",
    "\n",
    "To create the inference learner from the exported file >> `load_learner`"
   ]
  },
  {
   "cell_type": "code",
   "execution_count": null,
   "metadata": {},
   "outputs": [],
   "source": [
    "# /home/yuri/Pro/fastaiv3/data/bears/grizzly/\n",
    "\n",
    "learn_inf = load_learner(path/'export.pkl')"
   ]
  },
  {
   "cell_type": "markdown",
   "metadata": {},
   "source": [
    "Doing inference, we're generally just getting predictions for one image at a time. \n",
    "\n",
    "To do this, pass a filename to `predict`:"
   ]
  },
  {
   "cell_type": "code",
   "execution_count": null,
   "metadata": {},
   "outputs": [],
   "source": [
    "learn_inf.predict('images/panel.jpg')"
   ]
  },
  {
   "cell_type": "markdown",
   "metadata": {},
   "source": [
    "This has returned three things: \n",
    "the predicted category in the same format you originally provided (in this case that's a string), \n",
    "the index of the predicted category, \n",
    "and the probabilities of each category. \n",
    "\n",
    "The last two are based on the order of categories in the vocab of the DataLoaders; that is, the stored list of all possible categories. \n",
    "At inference time, you can access the DataLoaders as an attribute of the Learner:"
   ]
  },
  {
   "cell_type": "code",
   "execution_count": null,
   "metadata": {},
   "outputs": [],
   "source": [
    "learn_inf.dls.vocab"
   ]
  },
  {
   "cell_type": "markdown",
   "metadata": {},
   "source": [
    "We can see here that if we index into the vocab with the integer returned by predict then we get back \"grizzly\", as expected. \n",
    "\n",
    "Also, note that if we index into the list of probabilities, we see a nearly 1.00 probability that this is a grizzly.\n",
    "\n",
    "\n",
    "We know how to make predictions from our saved model, so we have everything we need to start building our app. We can do it directly in a Jupyter Notebook.\n"
   ]
  },
  {
   "cell_type": "markdown",
   "metadata": {},
   "source": [
    "## Creating a Notebook app from the model\n",
    "\n",
    "To use our model in an application, we can simply treat the `predict` method as a regular function. Therefore, creating an app from the model can be done using any of the myriad of frameworks and techniques available to application developers.\n",
    "\n",
    "However, most data scientists are not familiar with the world of web application development. So let's try using something that you do, at this point, know: Jupyter notebooks. It turns out that we can create a complete working web application using nothing but Jupyter notebooks! The two things we need to make this happen are:\n",
    "\n",
    "- IPython widgets (ipywidgets)\n",
    "- Voilà\n",
    "\n",
    "*IPython widgets* are GUI components that bring together JavaScript and Python functionality in a web browser, and can be created and used within a Jupyter notebook. For instance, the image cleaner that we saw earlier in this chapter is entirely written with IPython widgets. However, we don't want to require users of our application to run Jupyter themselves.\n",
    "\n",
    "That is why *Voilà* exists. It is a system for making applications consisting of IPython widgets available to end-users, without them having to use Jupyter at all. Voilà is taking advantage of the fact that a notebook _already is_ a kind of web application, just a rather complex one that depends on another web application: Jupyter itself. Essentially, it helps us automatically convert the complex web application which we've already implicitly made (the notebook) into a simpler, easier-to-deploy web application, which functions like a normal web application rather than like a notebook.\n",
    "\n",
    "But we still have the advantage of developing in a notebook. So with ipywidgets, we can build up our GUI step by step. We will use this approach to create a simple image classifier. First, we need a file upload widget:"
   ]
  },
  {
   "cell_type": "code",
   "execution_count": null,
   "metadata": {},
   "outputs": [],
   "source": [
    "#hide_output\n",
    "btn_upload = widgets.FileUpload()\n",
    "btn_upload"
   ]
  },
  {
   "cell_type": "code",
   "execution_count": 4,
   "metadata": {},
   "outputs": [],
   "source": [
    "###############\n",
    "Now we can grab the image:"
   ]
  },
  {
   "cell_type": "code",
   "execution_count": null,
   "metadata": {},
   "outputs": [],
   "source": []
  }
 ],
 "metadata": {
  "kernelspec": {
   "display_name": "Python 3",
   "language": "python",
   "name": "python3"
  },
  "language_info": {
   "codemirror_mode": {
    "name": "ipython",
    "version": 3
   },
   "file_extension": ".py",
   "mimetype": "text/x-python",
   "name": "python",
   "nbconvert_exporter": "python",
   "pygments_lexer": "ipython3",
   "version": "3.7.6"
  }
 },
 "nbformat": 4,
 "nbformat_minor": 4
}
